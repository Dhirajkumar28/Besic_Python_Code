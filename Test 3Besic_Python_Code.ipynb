{
 "cells": [
  {
   "cell_type": "markdown",
   "id": "20b8ddea",
   "metadata": {},
   "source": [
    "# Q.1 Write a program to check given number is even or odd ?"
   ]
  },
  {
   "cell_type": "code",
   "execution_count": 12,
   "id": "5d14345c",
   "metadata": {},
   "outputs": [
    {
     "name": "stdout",
     "output_type": "stream",
     "text": [
      "Enter a number for check odd or even: 1254\n",
      "1254  is Even Number\n"
     ]
    }
   ],
   "source": [
    "num=int(input(\"Enter a number for check odd or even: \"))\n",
    "if (num%2==0):\n",
    "    print(num,\" is Even Number\")\n",
    "else:\n",
    "    print(num,\"is Odd Number\")\n",
    "            "
   ]
  },
  {
   "cell_type": "code",
   "execution_count": 13,
   "id": "45fc1c48",
   "metadata": {},
   "outputs": [
    {
     "name": "stdout",
     "output_type": "stream",
     "text": [
      "Enter a number for check odd or even: 125\n",
      "125  is an odd\n"
     ]
    }
   ],
   "source": [
    "num=int(input(\"Enter a number for check odd or even: \"))\n",
    "def even_odd_num(num):\n",
    "    if(num%2==0):\n",
    "        print(num,\" Is an even\")\n",
    "    else:\n",
    "        print(num,\" is an odd\")\n",
    "\n",
    "even_odd_num(num)"
   ]
  },
  {
   "cell_type": "markdown",
   "id": "5c9a27ed",
   "metadata": {},
   "source": [
    "# Q.2  Write a program to check given character is a vowel or consonant ? "
   ]
  },
  {
   "cell_type": "code",
   "execution_count": 21,
   "id": "95bbb86d",
   "metadata": {},
   "outputs": [
    {
     "name": "stdout",
     "output_type": "stream",
     "text": [
      "Enter a character: D\n",
      "The character 'D' is a consonant!\n"
     ]
    }
   ],
   "source": [
    "# By Using List\n",
    "character = input(\"Enter a character: \")  \n",
    "  \n",
    "# Creating a list of vowels  \n",
    "vowels = ['a', 'e', 'i', 'o', 'u', 'A', 'E', 'I', 'O', 'U']  \n",
    "  \n",
    "# Check if the character is a vowel or not  \n",
    "if character in vowels:  \n",
    "    print(f\"The character '{character}' is a vowel!\")  \n",
    "else:  \n",
    "    print(f\"The character '{character}' is a consonant!\")"
   ]
  },
  {
   "cell_type": "code",
   "execution_count": 18,
   "id": "b378fcfc",
   "metadata": {},
   "outputs": [
    {
     "name": "stdout",
     "output_type": "stream",
     "text": [
      "Enter a character: u\n",
      "The character 'u' is a vowel.\n"
     ]
    }
   ],
   "source": [
    "def vowel_or_consonant(char):\n",
    "    char = char.lower()\n",
    "    if char in ['a', 'e', 'i', 'o', 'u']:\n",
    "        return f\"The character '{char}' is a vowel.\"\n",
    "    else:\n",
    "        return f\"The character '{char}' is a consonant.\"\n",
    "character = input(\"Enter a character: \")\n",
    "\n",
    "print(vowel_or_consonant(character))\n"
   ]
  },
  {
   "cell_type": "markdown",
   "id": "2aa92bc2",
   "metadata": {},
   "source": [
    "# Q.3 Write a program to count vowels and consonants in the string ?"
   ]
  },
  {
   "cell_type": "code",
   "execution_count": 24,
   "id": "a77a714c",
   "metadata": {},
   "outputs": [
    {
     "name": "stdout",
     "output_type": "stream",
     "text": [
      "Enter a character: I\n",
      "The character 'I' is a vowel!\n"
     ]
    }
   ],
   "source": [
    "def vowel_or_consonant(char):  \n",
    "    \n",
    "    vowels = \"aeiouAEIOU\"  \n",
    "  \n",
    "    if vowels.find(char) != -1:  \n",
    "        print(f\"The character '{char}' is a vowel!\")  \n",
    "    else:  \n",
    "        print(f\"The character '{char}' is a consonant!\")  \n",
    "  \n",
    "\n",
    "character = input(\"Enter a character: \")  \n",
    "  \n",
    "# Calling the function  \n",
    "vowel_or_consonant(character)  "
   ]
  },
  {
   "cell_type": "markdown",
   "id": "7da87fa6",
   "metadata": {},
   "source": [
    "# Q.4 Write a program to remove spaces from string without inbuilt function ? \n",
    "\n",
    "\n",
    "\n"
   ]
  },
  {
   "cell_type": "code",
   "execution_count": 25,
   "id": "edb17c41",
   "metadata": {},
   "outputs": [
    {
     "name": "stdout",
     "output_type": "stream",
     "text": [
      "Enter a String : Miss Universe\n",
      "String after removing the spaces : MissUniverse\n"
     ]
    }
   ],
   "source": [
    "string = input(\"Enter a String : \")\n",
    "result=''\n",
    "#iterating the string\n",
    "for i in string:\n",
    "    #if the character is not a space\n",
    "    if i!=' ':\n",
    "        result += i\n",
    "print(\"String after removing the spaces :\",result)\n"
   ]
  },
  {
   "cell_type": "code",
   "execution_count": 26,
   "id": "6ec4198e",
   "metadata": {},
   "outputs": [
    {
     "name": "stdout",
     "output_type": "stream",
     "text": [
      "Enter a String : Structured Query Language SQL\n",
      "String after removing the spaces : StructuredQueryLanguageSQL\n"
     ]
    }
   ],
   "source": [
    "string = input(\"Enter a String : \")\n",
    "result=''\n",
    "#iterating the string\n",
    "for i in string:\n",
    "    #if the character is not a space\n",
    "    if i!=' ':\n",
    "        result += i\n",
    "print(\"String after removing the spaces :\",result)\n"
   ]
  },
  {
   "cell_type": "code",
   "execution_count": null,
   "id": "98702892",
   "metadata": {},
   "outputs": [],
   "source": []
  }
 ],
 "metadata": {
  "kernelspec": {
   "display_name": "Python 3 (ipykernel)",
   "language": "python",
   "name": "python3"
  },
  "language_info": {
   "codemirror_mode": {
    "name": "ipython",
    "version": 3
   },
   "file_extension": ".py",
   "mimetype": "text/x-python",
   "name": "python",
   "nbconvert_exporter": "python",
   "pygments_lexer": "ipython3",
   "version": "3.11.5"
  }
 },
 "nbformat": 4,
 "nbformat_minor": 5
}
