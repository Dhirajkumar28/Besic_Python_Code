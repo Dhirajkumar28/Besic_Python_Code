{
 "cells": [
  {
   "cell_type": "code",
   "execution_count": 68,
   "id": "fdd6ed56",
   "metadata": {},
   "outputs": [],
   "source": [
    "#  Q.1  Converting an Integer into Decimals ?\n",
    "# Q.2  Converting an String of Integers into Decimals ?\n",
    "# Q.3  Reversing a string using an Extended Slicing Technique ? \n",
    "# Q.4  Counting the number of occurances of a character in a string ?\n",
    "# Q.5  Find the maximum and minimum number in a list ?\n",
    "# Q.6  Find the middle element in a list ? \n",
    "# Q.7  Converting a list into a string ?\n",
    "# Q.8  Adding two list elements together ?"
   ]
  },
  {
   "cell_type": "markdown",
   "id": "033f0cd3",
   "metadata": {},
   "source": [
    "# Q.1  Converting an Integer into Decimals ?"
   ]
  },
  {
   "cell_type": "code",
   "execution_count": 5,
   "id": "cba3d6bb",
   "metadata": {},
   "outputs": [
    {
     "name": "stdout",
     "output_type": "stream",
     "text": [
      "Enter the Integer Number15\n",
      "Converted given integer number into Decimal Number is :-> 15.0\n"
     ]
    }
   ],
   "source": [
    "int_value = int(input(\"Enter the Integer Number\"))\n",
    "dec_value = int_value / 1.0  \n",
    "print(\"Converted given integer number into Decimal Number is :->\",dec_value)"
   ]
  },
  {
   "cell_type": "markdown",
   "id": "71fd8f1a",
   "metadata": {},
   "source": [
    "# Q.2  Converting an String of Integers into Decimals ?\n"
   ]
  },
  {
   "cell_type": "code",
   "execution_count": 10,
   "id": "3ce62f08",
   "metadata": {},
   "outputs": [
    {
     "data": {
      "text/plain": [
       "12345.0"
      ]
     },
     "execution_count": 10,
     "metadata": {},
     "output_type": "execute_result"
    }
   ],
   "source": [
    "string_of_int = \"12345\"\n",
    "decimal_value = float(string_of_integers)\n",
    "decimal_value"
   ]
  },
  {
   "cell_type": "markdown",
   "id": "83a2ba02",
   "metadata": {},
   "source": [
    "# Q.3  Reversing a string using an Extended Slicing Technique ? \n"
   ]
  },
  {
   "cell_type": "code",
   "execution_count": 16,
   "id": "1e39d3a7",
   "metadata": {},
   "outputs": [
    {
     "name": "stdout",
     "output_type": "stream",
     "text": [
      "Enter the StringHello Sir !\n"
     ]
    },
    {
     "data": {
      "text/plain": [
       "'! riS olleH'"
      ]
     },
     "execution_count": 16,
     "metadata": {},
     "output_type": "execute_result"
    }
   ],
   "source": [
    "org_str = str(input(\"Enter the String\"))\n",
    "reversed_string = org_str[::-1]\n",
    "reversed_string"
   ]
  },
  {
   "cell_type": "markdown",
   "id": "e01eeec2",
   "metadata": {},
   "source": [
    "# Q.4  Counting the number of occurances of a character in a string ?\n"
   ]
  },
  {
   "cell_type": "code",
   "execution_count": 19,
   "id": "3ade8e92",
   "metadata": {},
   "outputs": [
    {
     "data": {
      "text/plain": [
       "1"
      ]
     },
     "execution_count": 19,
     "metadata": {},
     "output_type": "execute_result"
    }
   ],
   "source": [
    "string = \"hello\"\n",
    "count = string.count(\"hello\")\n",
    "count"
   ]
  },
  {
   "cell_type": "code",
   "execution_count": 24,
   "id": "0479c1c4",
   "metadata": {},
   "outputs": [
    {
     "data": {
      "text/plain": [
       "3"
      ]
     },
     "execution_count": 24,
     "metadata": {},
     "output_type": "execute_result"
    }
   ],
   "source": [
    "string = \"hello world\"\n",
    "char_to_count = 'l'\n",
    "count = 0\n",
    "for char in string:\n",
    "    if char == char_to_count:\n",
    "        count += 1\n",
    "count"
   ]
  },
  {
   "cell_type": "markdown",
   "id": "5f1d76ba",
   "metadata": {},
   "source": [
    "# Q.5  Find the maximum and minimum number in a list ?\n"
   ]
  },
  {
   "cell_type": "code",
   "execution_count": 28,
   "id": "064ef8b8",
   "metadata": {},
   "outputs": [
    {
     "name": "stdout",
     "output_type": "stream",
     "text": [
      "Maximum number in a list is:- 82\n",
      "Minium number in a list is:- 5\n"
     ]
    }
   ],
   "source": [
    "num = [10,50,43,69,82,15,5,35,20]\n",
    "maximun_num = max(num)\n",
    "minimum_num = min(num)\n",
    "print(\"Maximum number in a list is:-\",maximun_num)\n",
    "print(\"Minium number in a list is:-\",minimum_num)"
   ]
  },
  {
   "cell_type": "markdown",
   "id": "aa2ffe19",
   "metadata": {},
   "source": [
    "# Q.6  Find the middle element in a list ? \n"
   ]
  },
  {
   "cell_type": "code",
   "execution_count": 42,
   "id": "3b7268ec",
   "metadata": {},
   "outputs": [
    {
     "data": {
      "text/plain": [
       "4"
      ]
     },
     "execution_count": 42,
     "metadata": {},
     "output_type": "execute_result"
    }
   ],
   "source": [
    "input_list = [1,2,3,4,5,6,7]\n",
    "def findMiddle(input_list):\n",
    "    middle = float(len(input_list))/2\n",
    "    if middle % 2 != 0:\n",
    "        return input_list[int(middle - .5)]\n",
    "    else:\n",
    "        return (input_list[int(middle)], input_list[int(middle-1)])\n",
    "findMiddle(input_list)"
   ]
  },
  {
   "cell_type": "markdown",
   "id": "622f0496",
   "metadata": {},
   "source": [
    "# Q.7  Converting a list into a string ?\n"
   ]
  },
  {
   "cell_type": "code",
   "execution_count": 56,
   "id": "d8cc6697",
   "metadata": {},
   "outputs": [
    {
     "name": "stdout",
     "output_type": "stream",
     "text": [
      "Converted a List into a String :->  apple banana orange\n"
     ]
    }
   ],
   "source": [
    "my_list = ['apple', 'banana', 'orange']\n",
    "result = ' '.join(my_list)\n",
    "print(\"Converted a List into a String :-> \",result)"
   ]
  },
  {
   "cell_type": "markdown",
   "id": "a3fbab5e",
   "metadata": {},
   "source": [
    "# Q.8  Adding two list elements together ?"
   ]
  },
  {
   "cell_type": "code",
   "execution_count": 67,
   "id": "7d8b0f26",
   "metadata": {},
   "outputs": [
    {
     "name": "stdout",
     "output_type": "stream",
     "text": [
      "[5, 7, 9]\n"
     ]
    }
   ],
   "source": [
    "list1 = [1, 2, 3]\n",
    "list2 = [4, 5, 6]\n",
    "result = []\n",
    "for i in range(len(list1)):\n",
    "    result.append(list1[i] + list2[i])\n",
    "print(result)"
   ]
  },
  {
   "cell_type": "code",
   "execution_count": 66,
   "id": "36cc5c58",
   "metadata": {},
   "outputs": [
    {
     "data": {
      "text/plain": [
       "array([1, 2, 3, 4, 5, 6])"
      ]
     },
     "execution_count": 66,
     "metadata": {},
     "output_type": "execute_result"
    }
   ],
   "source": [
    "import numpy as np\n",
    "list1 = [1, 2, 3]\n",
    "list2 = [4, 5, 6]\n",
    "result = [list1[i] + list2[i] for i in range(len(list1))]\n",
    "np.hstack((list1,list2))\n"
   ]
  }
 ],
 "metadata": {
  "kernelspec": {
   "display_name": "Python 3 (ipykernel)",
   "language": "python",
   "name": "python3"
  },
  "language_info": {
   "codemirror_mode": {
    "name": "ipython",
    "version": 3
   },
   "file_extension": ".py",
   "mimetype": "text/x-python",
   "name": "python",
   "nbconvert_exporter": "python",
   "pygments_lexer": "ipython3",
   "version": "3.11.5"
  }
 },
 "nbformat": 4,
 "nbformat_minor": 5
}
